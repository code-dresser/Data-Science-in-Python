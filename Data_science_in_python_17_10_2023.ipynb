{
  "cells": [
    {
      "cell_type": "markdown",
      "metadata": {
        "id": "view-in-github",
        "colab_type": "text"
      },
      "source": [
        "<a href=\"https://colab.research.google.com/github/code-dresser/Data-Science-in-Python/blob/main/Data_science_in_python_17_10_2023.ipynb\" target=\"_parent\"><img src=\"https://colab.research.google.com/assets/colab-badge.svg\" alt=\"Open In Colab\"/></a>"
      ]
    },
    {
      "cell_type": "markdown",
      "metadata": {
        "id": "YXNfRejISkr1"
      },
      "source": []
    },
    {
      "cell_type": "code",
      "execution_count": 3,
      "metadata": {
        "id": "zR7TMK9KUejL"
      },
      "outputs": [],
      "source": [
        "import numpy\n",
        "import pandas\n",
        "import matplotlib"
      ]
    },
    {
      "cell_type": "markdown",
      "metadata": {
        "id": "a9PNEaKhcBRZ"
      },
      "source": [
        "# Numpy\n",
        "\n",
        "1. Managing lists, dictionaries, sets and tuples\n",
        "2. Operations on N-dimensional arrays with Numpy\n",
        "3. Operations with dense or sparse arrays with Numpy and SciPy\n",
        "4. Dumping and retrival of dataset\n",
        "---\n",
        "Numpy provides a huge range of fast and efficient ways to create and manipulate numerical data within them. While Python list can contain different types of data within single list, Numpy array **must be** homogenous. Mathematical operations that can be performed on arrays would be extremely inefficient if the data were not homogeneous.\n",
        "\n",
        "\n"
      ]
    },
    {
      "cell_type": "markdown",
      "metadata": {
        "id": "iTHXQq6seo-A"
      },
      "source": [
        "# List, dictionaries, set and tuples\n",
        "\n",
        "---\n",
        "\n"
      ]
    },
    {
      "cell_type": "code",
      "execution_count": 6,
      "metadata": {
        "id": "qTTdhA8fe8Fe"
      },
      "outputs": [],
      "source": [
        "import numpy as np"
      ]
    },
    {
      "cell_type": "markdown",
      "metadata": {
        "id": "GC59fbw9f_yl"
      },
      "source": [
        "*Althrough Numpy can work with all numeric types, most methods return **float** value*"
      ]
    },
    {
      "cell_type": "markdown",
      "metadata": {
        "id": "CHS-6G8mgYrx"
      },
      "source": [
        "### Create a list/array in Numpy"
      ]
    },
    {
      "cell_type": "markdown",
      "metadata": {
        "id": "9WpfRkPGhnr9"
      },
      "source": [
        "From Python list"
      ]
    },
    {
      "cell_type": "code",
      "execution_count": null,
      "metadata": {
        "colab": {
          "base_uri": "https://localhost:8080/"
        },
        "id": "mr0YzYvAgYcZ",
        "outputId": "58464f56-3dc2-4d96-efdb-4db0e88f4e89"
      },
      "outputs": [
        {
          "output_type": "execute_result",
          "data": {
            "text/plain": [
              "array([1, 2, 3, 4, 5])"
            ]
          },
          "metadata": {},
          "execution_count": 2
        }
      ],
      "source": [
        "my_list = [1,2,3,4,5]\n",
        "np.array(my_list)"
      ]
    },
    {
      "cell_type": "code",
      "execution_count": null,
      "metadata": {
        "colab": {
          "base_uri": "https://localhost:8080/"
        },
        "id": "c5CJPBGnh4J4",
        "outputId": "7cd77e51-a384-4b53-9473-1e5b84b3a489"
      },
      "outputs": [
        {
          "data": {
            "text/plain": [
              "array([[1, 2, 3],\n",
              "       [5, 6, 7],\n",
              "       [8, 9, 0]])"
            ]
          },
          "execution_count": 7,
          "metadata": {},
          "output_type": "execute_result"
        }
      ],
      "source": [
        "my_matrix = [ [1,2,3],\n",
        "              [5,6,7],\n",
        "              [8,9,0]]\n",
        "np.array(my_matrix)"
      ]
    },
    {
      "cell_type": "markdown",
      "metadata": {
        "id": "OTsPb1qqiG-a"
      },
      "source": [
        "Numpy does not accept unbalance matrices"
      ]
    },
    {
      "cell_type": "code",
      "execution_count": null,
      "metadata": {
        "colab": {
          "base_uri": "https://localhost:8080/"
        },
        "id": "9N8aquKmiODZ",
        "outputId": "bb17e78a-202f-48b8-ff58-457593e3716c"
      },
      "outputs": [
        {
          "name": "stderr",
          "output_type": "stream",
          "text": [
            "<ipython-input-8-c702c96dbccc>:3: VisibleDeprecationWarning: Creating an ndarray from ragged nested sequences (which is a list-or-tuple of lists-or-tuples-or ndarrays with different lengths or shapes) is deprecated. If you meant to do this, you must specify 'dtype=object' when creating the ndarray.\n",
            "  np.array(matrix)\n"
          ]
        },
        {
          "data": {
            "text/plain": [
              "array([list([1, 2, 3]), list([4, 5, 6, 7, 8])], dtype=object)"
            ]
          },
          "execution_count": 8,
          "metadata": {},
          "output_type": "execute_result"
        }
      ],
      "source": [
        "matrix = [ [1,2,3],\n",
        "              [4,5,6,7,8]]\n",
        "np.array(matrix)"
      ]
    },
    {
      "cell_type": "markdown",
      "metadata": {
        "id": "XUnuZDMVih6Z"
      },
      "source": [
        "####From Numpy methods\n",
        "Evenly space values within a given interval"
      ]
    },
    {
      "cell_type": "code",
      "execution_count": null,
      "metadata": {
        "colab": {
          "base_uri": "https://localhost:8080/"
        },
        "id": "9bxQzZAhjCCz",
        "outputId": "920bad4b-9726-4cd5-9ef6-9d37541ec41c"
      },
      "outputs": [
        {
          "data": {
            "text/plain": [
              "array([0, 1, 2, 3, 4, 5, 6, 7, 8, 9])"
            ]
          },
          "execution_count": 10,
          "metadata": {},
          "output_type": "execute_result"
        }
      ],
      "source": [
        "np.arange(0,10)"
      ]
    },
    {
      "cell_type": "code",
      "execution_count": null,
      "metadata": {
        "colab": {
          "base_uri": "https://localhost:8080/"
        },
        "id": "itN-LI-PjEno",
        "outputId": "b43ed46e-a822-4f2e-8104-a37290ac0e13"
      },
      "outputs": [
        {
          "data": {
            "text/plain": [
              "array([ 0,  1,  2,  3,  4,  5,  6,  7,  8,  9, 10])"
            ]
          },
          "execution_count": 11,
          "metadata": {},
          "output_type": "execute_result"
        }
      ],
      "source": [
        "np.arange(0,11)"
      ]
    },
    {
      "cell_type": "code",
      "execution_count": null,
      "metadata": {
        "colab": {
          "base_uri": "https://localhost:8080/"
        },
        "id": "ifgnh1BbjJ1O",
        "outputId": "10c86ea1-0576-499d-88fe-c885686dc54a"
      },
      "outputs": [
        {
          "data": {
            "text/plain": [
              "array([ 0,  2,  4,  6,  8, 10])"
            ]
          },
          "execution_count": 12,
          "metadata": {},
          "output_type": "execute_result"
        }
      ],
      "source": [
        "np.arange(0,11,2)"
      ]
    },
    {
      "cell_type": "markdown",
      "metadata": {
        "id": "JOxWJar_lStd"
      },
      "source": [
        "You can use the *arange* method with a step less than 1"
      ]
    },
    {
      "cell_type": "code",
      "execution_count": null,
      "metadata": {
        "colab": {
          "base_uri": "https://localhost:8080/"
        },
        "id": "oX08SxoVlLk9",
        "outputId": "0a8190e9-7476-423a-e3e5-f31c4b6b1c68"
      },
      "outputs": [
        {
          "data": {
            "text/plain": [
              "array([0.  , 0.01, 0.02, 0.03, 0.04, 0.05, 0.06, 0.07, 0.08, 0.09, 0.1 ,\n",
              "       0.11, 0.12, 0.13, 0.14, 0.15, 0.16, 0.17, 0.18, 0.19, 0.2 , 0.21,\n",
              "       0.22, 0.23, 0.24, 0.25, 0.26, 0.27, 0.28, 0.29, 0.3 , 0.31, 0.32,\n",
              "       0.33, 0.34, 0.35, 0.36, 0.37, 0.38, 0.39, 0.4 , 0.41, 0.42, 0.43,\n",
              "       0.44, 0.45, 0.46, 0.47, 0.48, 0.49, 0.5 , 0.51, 0.52, 0.53, 0.54,\n",
              "       0.55, 0.56, 0.57, 0.58, 0.59, 0.6 , 0.61, 0.62, 0.63, 0.64, 0.65,\n",
              "       0.66, 0.67, 0.68, 0.69, 0.7 , 0.71, 0.72, 0.73, 0.74, 0.75, 0.76,\n",
              "       0.77, 0.78, 0.79, 0.8 , 0.81, 0.82, 0.83, 0.84, 0.85, 0.86, 0.87,\n",
              "       0.88, 0.89, 0.9 , 0.91, 0.92, 0.93, 0.94, 0.95, 0.96, 0.97, 0.98,\n",
              "       0.99])"
            ]
          },
          "execution_count": 22,
          "metadata": {},
          "output_type": "execute_result"
        }
      ],
      "source": [
        "np.arange(0.0,1.0,0.01)"
      ]
    },
    {
      "cell_type": "markdown",
      "metadata": {
        "id": "zRiXTFyRjQEp"
      },
      "source": [
        "Zeros and ones"
      ]
    },
    {
      "cell_type": "code",
      "execution_count": null,
      "metadata": {
        "colab": {
          "base_uri": "https://localhost:8080/"
        },
        "id": "cGPHV5I9jN82",
        "outputId": "5d74c462-6e3f-4ed1-92bb-ffb57cea80e9"
      },
      "outputs": [
        {
          "data": {
            "text/plain": [
              "array([0., 0., 0.])"
            ]
          },
          "execution_count": 13,
          "metadata": {},
          "output_type": "execute_result"
        }
      ],
      "source": [
        "np.zeros(3)"
      ]
    },
    {
      "cell_type": "code",
      "execution_count": null,
      "metadata": {
        "colab": {
          "base_uri": "https://localhost:8080/"
        },
        "id": "0Oe8oNNMjVdG",
        "outputId": "7e0c71aa-22f2-4cc5-9180-29f4ee4cbfa2"
      },
      "outputs": [
        {
          "data": {
            "text/plain": [
              "array([1., 1., 1., 1., 1.])"
            ]
          },
          "execution_count": 18,
          "metadata": {},
          "output_type": "execute_result"
        }
      ],
      "source": [
        "np.ones(5)"
      ]
    },
    {
      "cell_type": "code",
      "execution_count": null,
      "metadata": {
        "colab": {
          "base_uri": "https://localhost:8080/"
        },
        "id": "DWG1UwgYk3Ol",
        "outputId": "aa9b7aa2-c1f0-4ab7-8cf5-ddb71779edd0"
      },
      "outputs": [
        {
          "data": {
            "text/plain": [
              "array([[0., 0., 0.],\n",
              "       [0., 0., 0.],\n",
              "       [0., 0., 0.]])"
            ]
          },
          "execution_count": 20,
          "metadata": {},
          "output_type": "execute_result"
        }
      ],
      "source": [
        "np.zeros((3,3))"
      ]
    },
    {
      "cell_type": "code",
      "execution_count": null,
      "metadata": {
        "colab": {
          "base_uri": "https://localhost:8080/"
        },
        "id": "bKKunlQtk50O",
        "outputId": "95470e75-5a34-427a-dc7c-ef0bda97d6f1"
      },
      "outputs": [
        {
          "data": {
            "text/plain": [
              "array([[1., 1., 1., 1.],\n",
              "       [1., 1., 1., 1.],\n",
              "       [1., 1., 1., 1.],\n",
              "       [1., 1., 1., 1.]])"
            ]
          },
          "execution_count": 21,
          "metadata": {},
          "output_type": "execute_result"
        }
      ],
      "source": [
        "np.ones((4,4))"
      ]
    },
    {
      "cell_type": "markdown",
      "metadata": {
        "id": "UuftOilum-5Q"
      },
      "source": [
        "Lineary spaced"
      ]
    },
    {
      "cell_type": "code",
      "execution_count": null,
      "metadata": {
        "colab": {
          "base_uri": "https://localhost:8080/"
        },
        "id": "vdf1m0BllDn1",
        "outputId": "4b32057a-71bf-4fd7-cfb5-b8c0814023fb"
      },
      "outputs": [
        {
          "data": {
            "text/plain": [
              "array([ 0.        ,  3.33333333,  6.66666667, 10.        ])"
            ]
          },
          "execution_count": 23,
          "metadata": {},
          "output_type": "execute_result"
        }
      ],
      "source": [
        "np.linspace(0,10,4)"
      ]
    },
    {
      "cell_type": "markdown",
      "metadata": {
        "id": "hLdJG0WHnG_Q"
      },
      "source": [
        "4 item in range 0 to 10"
      ]
    },
    {
      "cell_type": "code",
      "execution_count": null,
      "metadata": {
        "colab": {
          "base_uri": "https://localhost:8080/"
        },
        "id": "_UGC1o7QnGKQ",
        "outputId": "a3b5a91c-1c13-4676-b935-409db6486111"
      },
      "outputs": [
        {
          "data": {
            "text/plain": [
              "array([ 0.        ,  0.20408163,  0.40816327,  0.6122449 ,  0.81632653,\n",
              "        1.02040816,  1.2244898 ,  1.42857143,  1.63265306,  1.83673469,\n",
              "        2.04081633,  2.24489796,  2.44897959,  2.65306122,  2.85714286,\n",
              "        3.06122449,  3.26530612,  3.46938776,  3.67346939,  3.87755102,\n",
              "        4.08163265,  4.28571429,  4.48979592,  4.69387755,  4.89795918,\n",
              "        5.10204082,  5.30612245,  5.51020408,  5.71428571,  5.91836735,\n",
              "        6.12244898,  6.32653061,  6.53061224,  6.73469388,  6.93877551,\n",
              "        7.14285714,  7.34693878,  7.55102041,  7.75510204,  7.95918367,\n",
              "        8.16326531,  8.36734694,  8.57142857,  8.7755102 ,  8.97959184,\n",
              "        9.18367347,  9.3877551 ,  9.59183673,  9.79591837, 10.        ])"
            ]
          },
          "execution_count": 24,
          "metadata": {},
          "output_type": "execute_result"
        }
      ],
      "source": [
        "np.linspace(0,10,50)\n",
        "# from 0 to 10, 50 items"
      ]
    },
    {
      "cell_type": "markdown",
      "metadata": {
        "id": "P9DiMYNyoAmm"
      },
      "source": [
        "Identity Matrix"
      ]
    },
    {
      "cell_type": "code",
      "execution_count": null,
      "metadata": {
        "colab": {
          "base_uri": "https://localhost:8080/"
        },
        "id": "KOYP6IDVoATO",
        "outputId": "8ec6511f-c6e7-46c7-da3c-dd91d521942d"
      },
      "outputs": [
        {
          "data": {
            "text/plain": [
              "array([[1., 0., 0., 0.],\n",
              "       [0., 1., 0., 0.],\n",
              "       [0., 0., 1., 0.],\n",
              "       [0., 0., 0., 1.]])"
            ]
          },
          "execution_count": 25,
          "metadata": {},
          "output_type": "execute_result"
        }
      ],
      "source": [
        "np.eye(4)"
      ]
    },
    {
      "cell_type": "markdown",
      "metadata": {
        "id": "jfOqzVA8nB-j"
      },
      "source": [
        "Exercise 1,2"
      ]
    },
    {
      "cell_type": "code",
      "execution_count": null,
      "metadata": {
        "colab": {
          "base_uri": "https://localhost:8080/"
        },
        "id": "-yviUTfbnVs1",
        "outputId": "b47d43b5-c2d3-4765-b368-9a53af1d25ea"
      },
      "outputs": [
        {
          "data": {
            "text/plain": [
              "array([10, 12, 14, 16, 18, 20, 22, 24, 26, 28, 30, 32, 34, 36, 38, 40, 42,\n",
              "       44, 46, 48, 50])"
            ]
          },
          "execution_count": 3,
          "metadata": {},
          "output_type": "execute_result"
        }
      ],
      "source": [
        "np.arange(10,51,2)"
      ]
    },
    {
      "cell_type": "code",
      "execution_count": null,
      "metadata": {
        "colab": {
          "base_uri": "https://localhost:8080/"
        },
        "id": "BYPOhZjUjf8E",
        "outputId": "f2411526-cc66-4da8-f9b1-1ebe7448eb73"
      },
      "outputs": [
        {
          "output_type": "execute_result",
          "data": {
            "text/plain": [
              "array([[0.01, 0.02, 0.03, 0.04, 0.05, 0.06, 0.07, 0.08, 0.09, 0.1 ],\n",
              "       [0.11, 0.12, 0.13, 0.14, 0.15, 0.16, 0.17, 0.18, 0.19, 0.2 ],\n",
              "       [0.21, 0.22, 0.23, 0.24, 0.25, 0.26, 0.27, 0.28, 0.29, 0.3 ],\n",
              "       [0.31, 0.32, 0.33, 0.34, 0.35, 0.36, 0.37, 0.38, 0.39, 0.4 ],\n",
              "       [0.41, 0.42, 0.43, 0.44, 0.45, 0.46, 0.47, 0.48, 0.49, 0.5 ],\n",
              "       [0.51, 0.52, 0.53, 0.54, 0.55, 0.56, 0.57, 0.58, 0.59, 0.6 ],\n",
              "       [0.61, 0.62, 0.63, 0.64, 0.65, 0.66, 0.67, 0.68, 0.69, 0.7 ],\n",
              "       [0.71, 0.72, 0.73, 0.74, 0.75, 0.76, 0.77, 0.78, 0.79, 0.8 ],\n",
              "       [0.81, 0.82, 0.83, 0.84, 0.85, 0.86, 0.87, 0.88, 0.89, 0.9 ],\n",
              "       [0.91, 0.92, 0.93, 0.94, 0.95, 0.96, 0.97, 0.98, 0.99, 1.  ]])"
            ]
          },
          "metadata": {},
          "execution_count": 3
        }
      ],
      "source": [
        "np.arange(0.01, 1.01, 0.01).reshape(10, 10)"
      ]
    },
    {
      "cell_type": "markdown",
      "metadata": {
        "id": "o6Gv0I43nF3R"
      },
      "source": [
        "# Lesson 2"
      ]
    },
    {
      "cell_type": "markdown",
      "metadata": {
        "id": "GFC4sdTvpu-X"
      },
      "source": [
        "unravel_index\n"
      ]
    },
    {
      "cell_type": "code",
      "execution_count": null,
      "metadata": {
        "colab": {
          "base_uri": "https://localhost:8080/"
        },
        "id": "5z4rk0-AnKIN",
        "outputId": "d463cc02-280a-4c09-cba5-3ba026df22a5"
      },
      "outputs": [
        {
          "output_type": "stream",
          "name": "stdout",
          "text": [
            "(3, 3) 1 10 0 6\n"
          ]
        }
      ],
      "source": [
        "n = np.array([[1,2,3],[9,8,6],[10,5,9]])\n",
        "print(n.shape,n.min(),n.max(),n.argmin(),n.argmax())\n"
      ]
    },
    {
      "cell_type": "code",
      "execution_count": null,
      "metadata": {
        "colab": {
          "base_uri": "https://localhost:8080/"
        },
        "id": "A8F7aX04qNNf",
        "outputId": "315199ca-6120-4a0d-a601-0608a08ad2b5"
      },
      "outputs": [
        {
          "data": {
            "text/plain": [
              "(2, 0)"
            ]
          },
          "execution_count": 15,
          "metadata": {},
          "output_type": "execute_result"
        }
      ],
      "source": [
        "np.unravel_index(n.argmax(),n.shape)"
      ]
    },
    {
      "cell_type": "markdown",
      "metadata": {
        "id": "wNdI4RUhqYnI"
      },
      "source": [
        "Returns the index of maximum value ( 3rd row, 1st column)"
      ]
    },
    {
      "cell_type": "code",
      "execution_count": null,
      "metadata": {
        "colab": {
          "base_uri": "https://localhost:8080/"
        },
        "id": "iC2lKe6pqqoH",
        "outputId": "8b46de44-09e5-4274-a10d-3ed9cc6eedba"
      },
      "outputs": [
        {
          "output_type": "execute_result",
          "data": {
            "text/plain": [
              "array([2, 1, 2])"
            ]
          },
          "metadata": {},
          "execution_count": 5
        }
      ],
      "source": [
        "np.argmax(n,axis=0)"
      ]
    },
    {
      "cell_type": "markdown",
      "metadata": {
        "id": "pydBv4eeq09S"
      },
      "source": [
        "Return the index of maxumum value in each column"
      ]
    },
    {
      "cell_type": "code",
      "execution_count": null,
      "metadata": {
        "colab": {
          "base_uri": "https://localhost:8080/"
        },
        "id": "KU7U59fcqwnf",
        "outputId": "202b3d63-d0de-4b78-e791-15e0566393be"
      },
      "outputs": [
        {
          "data": {
            "text/plain": [
              "array([2, 0, 0])"
            ]
          },
          "execution_count": 18,
          "metadata": {},
          "output_type": "execute_result"
        }
      ],
      "source": [
        "np.argmax(n,axis=1)"
      ]
    },
    {
      "cell_type": "markdown",
      "metadata": {
        "id": "dEblP8jvrFAv"
      },
      "source": [
        "Return the index of maximum value in each row"
      ]
    },
    {
      "cell_type": "code",
      "execution_count": null,
      "metadata": {
        "colab": {
          "base_uri": "https://localhost:8080/"
        },
        "id": "jB0OxOgjsL_H",
        "outputId": "f71de3f3-38a5-402d-d993-7c1a5e28b465"
      },
      "outputs": [
        {
          "data": {
            "text/plain": [
              "array([ 1,  2,  3,  4,  5,  6,  7,  8,  9, 10, 11, 12, 13, 14, 15, 16, 17,\n",
              "       18, 19, 20, 21, 22, 23, 24, 25])"
            ]
          },
          "execution_count": 20,
          "metadata": {},
          "output_type": "execute_result"
        }
      ],
      "source": [
        "n = np.arange(1,26)\n",
        "n"
      ]
    },
    {
      "cell_type": "code",
      "execution_count": null,
      "metadata": {
        "colab": {
          "base_uri": "https://localhost:8080/"
        },
        "id": "qD9U9B-5sRrZ",
        "outputId": "27b0ca44-2ac4-4cf4-bfc5-5c372a222f22"
      },
      "outputs": [
        {
          "data": {
            "text/plain": [
              "(25,)"
            ]
          },
          "execution_count": 21,
          "metadata": {},
          "output_type": "execute_result"
        }
      ],
      "source": [
        "n.shape\n"
      ]
    },
    {
      "cell_type": "code",
      "execution_count": null,
      "metadata": {
        "colab": {
          "base_uri": "https://localhost:8080/"
        },
        "id": "wOUIDx9lsYMX",
        "outputId": "e7dfa384-8ede-4348-b8b3-47639b82c43a"
      },
      "outputs": [
        {
          "data": {
            "text/plain": [
              "array([[ 1],\n",
              "       [ 2],\n",
              "       [ 3],\n",
              "       [ 4],\n",
              "       [ 5],\n",
              "       [ 6],\n",
              "       [ 7],\n",
              "       [ 8],\n",
              "       [ 9],\n",
              "       [10],\n",
              "       [11],\n",
              "       [12],\n",
              "       [13],\n",
              "       [14],\n",
              "       [15],\n",
              "       [16],\n",
              "       [17],\n",
              "       [18],\n",
              "       [19],\n",
              "       [20],\n",
              "       [21],\n",
              "       [22],\n",
              "       [23],\n",
              "       [24],\n",
              "       [25]])"
            ]
          },
          "execution_count": 22,
          "metadata": {},
          "output_type": "execute_result"
        }
      ],
      "source": [
        "n.reshape(25,1)"
      ]
    },
    {
      "cell_type": "markdown",
      "metadata": {
        "id": "B4WrQiwtzTc0"
      },
      "source": [
        "## Operation with N-dimensional arrays with Numpy\n"
      ]
    },
    {
      "cell_type": "markdown",
      "metadata": {
        "id": "n705eRuU4BYT"
      },
      "source": [
        "Arithmetic operations"
      ]
    },
    {
      "cell_type": "code",
      "execution_count": 13,
      "metadata": {
        "colab": {
          "base_uri": "https://localhost:8080/"
        },
        "id": "Lx-pB3XDzY0E",
        "outputId": "89b84ecf-58d2-4439-bf59-2c508bc6ee8a"
      },
      "outputs": [
        {
          "output_type": "stream",
          "name": "stdout",
          "text": [
            "[[2 3 4 5]\n",
            " [6 7 8 9]]\n",
            "\n",
            "[[22 23 24 25]\n",
            " [26 27 28 29]]\n"
          ]
        }
      ],
      "source": [
        "arr = np.arange(2,10).reshape(2,4)\n",
        "print(arr)\n",
        "print()\n",
        "ort = np.arange(22,30).reshape(2,4)\n",
        "print(ort)"
      ]
    },
    {
      "cell_type": "markdown",
      "metadata": {
        "id": "1f2qgdzm4ZSy"
      },
      "source": [
        "### Add"
      ]
    },
    {
      "cell_type": "code",
      "execution_count": 14,
      "metadata": {
        "colab": {
          "base_uri": "https://localhost:8080/"
        },
        "id": "74tlZnHS4YCz",
        "outputId": "55f6e632-bb60-42e2-9848-924d85d2ad39"
      },
      "outputs": [
        {
          "output_type": "execute_result",
          "data": {
            "text/plain": [
              "array([[24, 26, 28, 30],\n",
              "       [32, 34, 36, 38]])"
            ]
          },
          "metadata": {},
          "execution_count": 14
        }
      ],
      "source": [
        "arr + ort"
      ]
    },
    {
      "cell_type": "markdown",
      "metadata": {
        "id": "e4-nB-N84n7i"
      },
      "source": [
        "0 + 20 = 20 ,1 + 21 = 22, ... 9 + 29 = 38"
      ]
    },
    {
      "cell_type": "code",
      "execution_count": 15,
      "metadata": {
        "colab": {
          "base_uri": "https://localhost:8080/"
        },
        "id": "yEIxehM54joL",
        "outputId": "15ef4101-9b17-43fe-d312-3ed988f13257"
      },
      "outputs": [
        {
          "output_type": "execute_result",
          "data": {
            "text/plain": [
              "array([[ 3,  4,  5,  6],\n",
              "       [ 7,  8,  9, 10]])"
            ]
          },
          "metadata": {},
          "execution_count": 15
        }
      ],
      "source": [
        "arr + 1"
      ]
    },
    {
      "cell_type": "code",
      "execution_count": 16,
      "metadata": {
        "colab": {
          "base_uri": "https://localhost:8080/"
        },
        "id": "k69bfSke424o",
        "outputId": "83070af1-05d8-4259-da50-29c54947caeb"
      },
      "outputs": [
        {
          "output_type": "execute_result",
          "data": {
            "text/plain": [
              "array([[0, 1, 2, 3],\n",
              "       [4, 5, 6, 7]])"
            ]
          },
          "metadata": {},
          "execution_count": 16
        }
      ],
      "source": [
        "_2by4 = np.arange(0,8).reshape(2,4)\n",
        "_2by4"
      ]
    },
    {
      "cell_type": "code",
      "execution_count": 17,
      "metadata": {
        "colab": {
          "base_uri": "https://localhost:8080/"
        },
        "id": "BtiZGuDE5PsK",
        "outputId": "d299ca13-1bf3-44f1-9411-43f237d2c5dc"
      },
      "outputs": [
        {
          "output_type": "execute_result",
          "data": {
            "text/plain": [
              "array([[ 2,  4,  6,  8],\n",
              "       [10, 12, 14, 16]])"
            ]
          },
          "metadata": {},
          "execution_count": 17
        }
      ],
      "source": [
        "arr + _2by4"
      ]
    },
    {
      "cell_type": "markdown",
      "metadata": {
        "id": "M25OxOe05WDm"
      },
      "source": [
        "**ValueError:** operands could not be broadcast together with shapes (2,5) (2,4)"
      ]
    },
    {
      "cell_type": "markdown",
      "metadata": {
        "id": "m68oiC4j5fTl"
      },
      "source": [
        "### Subtraction"
      ]
    },
    {
      "cell_type": "code",
      "execution_count": null,
      "metadata": {
        "colab": {
          "base_uri": "https://localhost:8080/"
        },
        "id": "Qqj_sT5c5lw2",
        "outputId": "badda480-dab4-4a81-a8a7-e98fc7674fad"
      },
      "outputs": [
        {
          "data": {
            "text/plain": [
              "array([[-20, -20, -20, -20, -20],\n",
              "       [-20, -20, -20, -20, -20]])"
            ]
          },
          "execution_count": 30,
          "metadata": {},
          "output_type": "execute_result"
        }
      ],
      "source": [
        "arr - ort"
      ]
    },
    {
      "cell_type": "markdown",
      "metadata": {
        "id": "FFItz7c75qy8"
      },
      "source": [
        "0 - 20 = -20 , 1- 21 = -20, ... ,9 - 29 = -20"
      ]
    },
    {
      "cell_type": "code",
      "execution_count": null,
      "metadata": {
        "colab": {
          "base_uri": "https://localhost:8080/"
        },
        "id": "q9Qx4Mx05oNK",
        "outputId": "e9295f79-2c6c-4451-973c-a8da6c5dcb57"
      },
      "outputs": [
        {
          "data": {
            "text/plain": [
              "array([[-8, -7, -6, -5, -4],\n",
              "       [-3, -2, -1,  0,  1]])"
            ]
          },
          "execution_count": 31,
          "metadata": {},
          "output_type": "execute_result"
        }
      ],
      "source": [
        "arr - 8"
      ]
    },
    {
      "cell_type": "markdown",
      "metadata": {
        "id": "BvqCdSOX5lcq"
      },
      "source": [
        "### Multiply"
      ]
    },
    {
      "cell_type": "code",
      "execution_count": null,
      "metadata": {
        "colab": {
          "base_uri": "https://localhost:8080/"
        },
        "id": "m2HSxfZx6JkK",
        "outputId": "6a0f5efe-d128-483b-ba84-d2dda8f0bc10"
      },
      "outputs": [
        {
          "data": {
            "text/plain": [
              "array([[  0,  21,  44,  69,  96],\n",
              "       [125, 156, 189, 224, 261]])"
            ]
          },
          "execution_count": 32,
          "metadata": {},
          "output_type": "execute_result"
        }
      ],
      "source": [
        "arr * ort"
      ]
    },
    {
      "cell_type": "code",
      "execution_count": null,
      "metadata": {
        "colab": {
          "base_uri": "https://localhost:8080/"
        },
        "id": "fOxoyS3V6Ola",
        "outputId": "3faba7b6-7f75-49c9-cd2b-67e15d5524e1"
      },
      "outputs": [
        {
          "data": {
            "text/plain": [
              "array([[ 0,  8, 16, 24, 32],\n",
              "       [40, 48, 56, 64, 72]])"
            ]
          },
          "execution_count": 33,
          "metadata": {},
          "output_type": "execute_result"
        }
      ],
      "source": [
        "arr * 8"
      ]
    },
    {
      "cell_type": "markdown",
      "metadata": {
        "id": "XdQaM3NX6YZC"
      },
      "source": [
        "### Division"
      ]
    },
    {
      "cell_type": "code",
      "execution_count": null,
      "metadata": {
        "colab": {
          "base_uri": "https://localhost:8080/"
        },
        "id": "YptlVCh-6aF7",
        "outputId": "b2573a79-a7c3-4d95-b891-9e531db07c5b"
      },
      "outputs": [
        {
          "data": {
            "text/plain": [
              "array([[0.        , 0.04761905, 0.09090909, 0.13043478, 0.16666667],\n",
              "       [0.2       , 0.23076923, 0.25925926, 0.28571429, 0.31034483]])"
            ]
          },
          "execution_count": 34,
          "metadata": {},
          "output_type": "execute_result"
        }
      ],
      "source": [
        "arr / ort"
      ]
    },
    {
      "cell_type": "code",
      "execution_count": null,
      "metadata": {
        "colab": {
          "base_uri": "https://localhost:8080/"
        },
        "id": "16XJuody6dUC",
        "outputId": "c6addfb6-c076-4c01-be4f-0a95de492822"
      },
      "outputs": [
        {
          "name": "stderr",
          "output_type": "stream",
          "text": [
            "<ipython-input-35-673e90f52ebc>:1: RuntimeWarning: divide by zero encountered in divide\n",
            "  ort / arr\n"
          ]
        },
        {
          "data": {
            "text/plain": [
              "array([[        inf, 21.        , 11.        ,  7.66666667,  6.        ],\n",
              "       [ 5.        ,  4.33333333,  3.85714286,  3.5       ,  3.22222222]])"
            ]
          },
          "execution_count": 35,
          "metadata": {},
          "output_type": "execute_result"
        }
      ],
      "source": [
        "ort / arr"
      ]
    },
    {
      "cell_type": "markdown",
      "metadata": {
        "id": "zBAM8FDp6he1"
      },
      "source": [
        "### Power"
      ]
    },
    {
      "cell_type": "code",
      "execution_count": null,
      "metadata": {
        "colab": {
          "base_uri": "https://localhost:8080/"
        },
        "id": "YGUxGxBL6koi",
        "outputId": "de337395-56b0-4583-d52f-f79e1c92a52c"
      },
      "outputs": [
        {
          "data": {
            "text/plain": [
              "array([[ 0,  1,  4,  9, 16],\n",
              "       [25, 36, 49, 64, 81]])"
            ]
          },
          "execution_count": 36,
          "metadata": {},
          "output_type": "execute_result"
        }
      ],
      "source": [
        "arr ** 2"
      ]
    },
    {
      "cell_type": "code",
      "execution_count": null,
      "metadata": {
        "colab": {
          "base_uri": "https://localhost:8080/"
        },
        "id": "uTtHNtzC6oT7",
        "outputId": "145cb477-0a61-479c-89a9-08723d03f17d"
      },
      "outputs": [
        {
          "data": {
            "text/plain": [
              "array([[                  0,                   1,             4194304,\n",
              "                94143178827,     281474976710656],\n",
              "       [ 298023223876953125, 4561031516192243712, 5059972980857283351,\n",
              "                          0, 5756027422282277481]])"
            ]
          },
          "execution_count": 37,
          "metadata": {},
          "output_type": "execute_result"
        }
      ],
      "source": [
        "arr ** ort"
      ]
    },
    {
      "cell_type": "markdown",
      "metadata": {
        "id": "cCk_M5mK7Eqy"
      },
      "source": [
        "Bewere of the types\n",
        "Operator does not check if the values exceed thier types, which in this case they do exceed the type `int` and that is why they give strange value. We can solve this problem by using bigger types i.e `float`, `double`"
      ]
    },
    {
      "cell_type": "code",
      "execution_count": null,
      "metadata": {
        "colab": {
          "base_uri": "https://localhost:8080/"
        },
        "id": "fG5OkMRa7seS",
        "outputId": "894a7ae8-4c47-4e01-a45b-852d34d06cf5"
      },
      "outputs": [
        {
          "data": {
            "text/plain": [
              "array([[0.00000000e+00, 1.00000000e+00, 4.19430400e+06, 9.41431788e+10,\n",
              "        2.81474977e+14],\n",
              "       [2.98023224e+17, 1.70581728e+20, 6.57123624e+22, 1.93428131e+25,\n",
              "        4.71012870e+27]])"
            ]
          },
          "execution_count": 38,
          "metadata": {},
          "output_type": "execute_result"
        }
      ],
      "source": [
        "arr = np.arange(0.,10.).reshape(2,5)\n",
        "ort = np.arange(20.,30.).reshape(2,5)\n",
        "arr ** ort"
      ]
    },
    {
      "cell_type": "markdown",
      "metadata": {
        "id": "Rxig9u5F78m_"
      },
      "source": [
        "### Remainder"
      ]
    },
    {
      "cell_type": "code",
      "execution_count": null,
      "metadata": {
        "colab": {
          "base_uri": "https://localhost:8080/"
        },
        "id": "mFvQTkPT8A7X",
        "outputId": "22725b49-4054-4391-f7e6-016357ad98c2"
      },
      "outputs": [
        {
          "data": {
            "text/plain": [
              "array([[0., 1., 0., 1., 0.],\n",
              "       [1., 0., 1., 0., 1.]])"
            ]
          },
          "execution_count": 40,
          "metadata": {},
          "output_type": "execute_result"
        }
      ],
      "source": [
        "arr % 2"
      ]
    },
    {
      "cell_type": "markdown",
      "metadata": {
        "id": "4SM0Koy88GgD"
      },
      "source": [
        "## Universal function"
      ]
    },
    {
      "cell_type": "markdown",
      "metadata": {
        "id": "gwR6vjBn8kL3"
      },
      "source": [
        "Square root"
      ]
    },
    {
      "cell_type": "code",
      "execution_count": null,
      "metadata": {
        "colab": {
          "base_uri": "https://localhost:8080/"
        },
        "id": "RQhtIPnx8XNe",
        "outputId": "abb37f6f-4363-410e-c0e8-c1a9676a36f6"
      },
      "outputs": [
        {
          "data": {
            "text/plain": [
              "array([[0.        , 1.        , 1.41421356, 1.73205081, 2.        ],\n",
              "       [2.23606798, 2.44948974, 2.64575131, 2.82842712, 3.        ]])"
            ]
          },
          "execution_count": 41,
          "metadata": {},
          "output_type": "execute_result"
        }
      ],
      "source": [
        "np.sqrt(arr)"
      ]
    },
    {
      "cell_type": "markdown",
      "metadata": {
        "id": "AM8rsPZG8q-p"
      },
      "source": [
        "Exponant"
      ]
    },
    {
      "cell_type": "code",
      "execution_count": null,
      "metadata": {
        "colab": {
          "base_uri": "https://localhost:8080/"
        },
        "id": "ya1uyEpn8Zo6",
        "outputId": "e14ece3b-af55-4e84-b5f3-5be8fcdd3c21"
      },
      "outputs": [
        {
          "data": {
            "text/plain": [
              "array([[1.00000000e+00, 2.71828183e+00, 7.38905610e+00, 2.00855369e+01,\n",
              "        5.45981500e+01],\n",
              "       [1.48413159e+02, 4.03428793e+02, 1.09663316e+03, 2.98095799e+03,\n",
              "        8.10308393e+03]])"
            ]
          },
          "execution_count": 42,
          "metadata": {},
          "output_type": "execute_result"
        }
      ],
      "source": [
        "np.exp(arr)"
      ]
    },
    {
      "cell_type": "markdown",
      "metadata": {
        "id": "L4ZW5F_p8teh"
      },
      "source": [
        "Maximum"
      ]
    },
    {
      "cell_type": "code",
      "execution_count": null,
      "metadata": {
        "colab": {
          "base_uri": "https://localhost:8080/"
        },
        "id": "3d_lXHH28cA8",
        "outputId": "632a7f80-bf5d-4dab-a30e-5f6842b0c229"
      },
      "outputs": [
        {
          "data": {
            "text/plain": [
              "9.0"
            ]
          },
          "execution_count": 43,
          "metadata": {},
          "output_type": "execute_result"
        }
      ],
      "source": [
        "np.max(arr)"
      ]
    },
    {
      "cell_type": "markdown",
      "metadata": {
        "id": "K7ClCdce8vNc"
      },
      "source": [
        "Minimum"
      ]
    },
    {
      "cell_type": "code",
      "execution_count": null,
      "metadata": {
        "colab": {
          "base_uri": "https://localhost:8080/"
        },
        "id": "qzDQsnyZ8dmZ",
        "outputId": "e3081c4c-08fa-4080-b770-7c2c91939631"
      },
      "outputs": [
        {
          "data": {
            "text/plain": [
              "0.0"
            ]
          },
          "execution_count": 44,
          "metadata": {},
          "output_type": "execute_result"
        }
      ],
      "source": [
        "np.min(arr)"
      ]
    },
    {
      "cell_type": "code",
      "execution_count": null,
      "metadata": {
        "colab": {
          "base_uri": "https://localhost:8080/"
        },
        "id": "cWVfZRFa8eqR",
        "outputId": "2e7cb6a2-1f69-4388-b802-fe8994f1529b"
      },
      "outputs": [
        {
          "data": {
            "text/plain": [
              "array([[2.99573227, 3.04452244, 3.09104245, 3.13549422, 3.17805383],\n",
              "       [3.21887582, 3.25809654, 3.29583687, 3.33220451, 3.36729583]])"
            ]
          },
          "execution_count": 46,
          "metadata": {},
          "output_type": "execute_result"
        }
      ],
      "source": [
        "np.log(ort)"
      ]
    },
    {
      "cell_type": "code",
      "execution_count": null,
      "metadata": {
        "colab": {
          "base_uri": "https://localhost:8080/"
        },
        "id": "Bbrley-U8gfp",
        "outputId": "8a02f3a8-44a5-4def-f6b7-d63364f26e5e"
      },
      "outputs": [
        {
          "data": {
            "text/plain": [
              "4.5"
            ]
          },
          "execution_count": 47,
          "metadata": {},
          "output_type": "execute_result"
        }
      ],
      "source": [
        "np.average(arr)"
      ]
    },
    {
      "cell_type": "code",
      "execution_count": null,
      "metadata": {
        "colab": {
          "base_uri": "https://localhost:8080/"
        },
        "id": "w7C2Z6lW82TJ",
        "outputId": "6e7a7381-81b6-4974-eaef-8e429ae86bf5"
      },
      "outputs": [
        {
          "data": {
            "text/plain": [
              "4.5"
            ]
          },
          "execution_count": 48,
          "metadata": {},
          "output_type": "execute_result"
        }
      ],
      "source": [
        "np.median(arr)"
      ]
    },
    {
      "cell_type": "markdown",
      "metadata": {
        "id": "djHoIKPz88qJ"
      },
      "source": [
        "Standard deviation"
      ]
    },
    {
      "cell_type": "code",
      "execution_count": null,
      "metadata": {
        "colab": {
          "base_uri": "https://localhost:8080/"
        },
        "id": "It-iDqbo85BB",
        "outputId": "fc833d2a-b51a-45da-d948-c4ad3ab00f01"
      },
      "outputs": [
        {
          "data": {
            "text/plain": [
              "2.8722813232690143"
            ]
          },
          "execution_count": 49,
          "metadata": {},
          "output_type": "execute_result"
        }
      ],
      "source": [
        "np.std(arr)"
      ]
    },
    {
      "cell_type": "markdown",
      "metadata": {
        "id": "6fPwgWUz9CUi"
      },
      "source": [
        "### Sort"
      ]
    },
    {
      "cell_type": "markdown",
      "metadata": {
        "id": "42JwBN3a9LuZ"
      },
      "source": [
        "The `sort()` method is versatile and support the `quicksort`, `mergesort`, `heapsort` and `typesort`"
      ]
    },
    {
      "cell_type": "code",
      "execution_count": null,
      "metadata": {
        "id": "SRQxItaE860T"
      },
      "outputs": [],
      "source": [
        "tosort = np.random.randint(1,100,1_000_000)"
      ]
    },
    {
      "cell_type": "code",
      "execution_count": null,
      "metadata": {
        "colab": {
          "base_uri": "https://localhost:8080/"
        },
        "id": "KO05DI9j9pDh",
        "outputId": "b39c86e5-c7b7-4265-800e-43f1b21758cd"
      },
      "outputs": [
        {
          "output_type": "execute_result",
          "data": {
            "text/plain": [
              "array([ 1,  1,  1, ..., 99, 99, 99])"
            ]
          },
          "metadata": {},
          "execution_count": 8
        }
      ],
      "source": [
        "np.sort(tosort)"
      ]
    },
    {
      "cell_type": "code",
      "execution_count": null,
      "metadata": {
        "colab": {
          "base_uri": "https://localhost:8080/"
        },
        "id": "bbW2cu8-9riK",
        "outputId": "14af7e44-e07f-4996-feeb-74c3b9e99f03"
      },
      "outputs": [
        {
          "data": {
            "text/plain": [
              "array([ 1,  1,  1, ..., 99, 99, 99])"
            ]
          },
          "execution_count": 54,
          "metadata": {},
          "output_type": "execute_result"
        }
      ],
      "source": [
        "np.sort(tosort,kind='heapsort')"
      ]
    },
    {
      "cell_type": "code",
      "execution_count": null,
      "metadata": {
        "colab": {
          "base_uri": "https://localhost:8080/"
        },
        "id": "ByvsqC1P-KGr",
        "outputId": "e5198e89-86b1-4b79-f34b-37c833de981b"
      },
      "outputs": [
        {
          "data": {
            "text/plain": [
              "array([ 1,  1,  1, ..., 99, 99, 99])"
            ]
          },
          "execution_count": 55,
          "metadata": {},
          "output_type": "execute_result"
        }
      ],
      "source": [
        "np.sort(tosort,kind='mergesort')"
      ]
    },
    {
      "cell_type": "markdown",
      "metadata": {
        "id": "rZy37y_P-0NE"
      },
      "source": [
        "Sort by line"
      ]
    },
    {
      "cell_type": "code",
      "execution_count": null,
      "metadata": {
        "id": "mxEWRi2Q-2eh"
      },
      "outputs": [],
      "source": [
        "matriz = np.array([[7,4,9],[3,4,1]])"
      ]
    },
    {
      "cell_type": "code",
      "execution_count": null,
      "metadata": {
        "colab": {
          "base_uri": "https://localhost:8080/"
        },
        "id": "dAiqc1AJ--en",
        "outputId": "a6acd924-6592-4c31-c878-578771e57a56"
      },
      "outputs": [
        {
          "data": {
            "text/plain": [
              "array([[4, 7, 9],\n",
              "       [1, 3, 4]])"
            ]
          },
          "execution_count": 59,
          "metadata": {},
          "output_type": "execute_result"
        }
      ],
      "source": [
        "np.sort(matriz,axis=1)"
      ]
    },
    {
      "cell_type": "markdown",
      "metadata": {
        "id": "t2vlRJ5v_MKx"
      },
      "source": [
        "Sort by column"
      ]
    },
    {
      "cell_type": "code",
      "execution_count": null,
      "metadata": {
        "colab": {
          "base_uri": "https://localhost:8080/"
        },
        "id": "Ou0J_2Lb_OUf",
        "outputId": "98dbfc19-f05b-4031-fae8-0d265361754b"
      },
      "outputs": [
        {
          "data": {
            "text/plain": [
              "array([[3, 4, 1],\n",
              "       [7, 4, 9]])"
            ]
          },
          "execution_count": 60,
          "metadata": {},
          "output_type": "execute_result"
        }
      ],
      "source": [
        "np.sort(matriz,axis=0)"
      ]
    },
    {
      "cell_type": "markdown",
      "metadata": {
        "id": "H5tBDo0m_SnZ"
      },
      "source": [
        "### Group and filter"
      ]
    },
    {
      "cell_type": "code",
      "execution_count": null,
      "metadata": {
        "id": "J345CX6-_ZWb"
      },
      "outputs": [],
      "source": [
        "matriz = np.random.randint(1,26,25).reshape(5,5)"
      ]
    },
    {
      "cell_type": "code",
      "execution_count": null,
      "metadata": {
        "colab": {
          "base_uri": "https://localhost:8080/"
        },
        "id": "vH_ya5hv_o-D",
        "outputId": "fc3c71d1-007e-44be-dd6d-5280efd31a64"
      },
      "outputs": [
        {
          "data": {
            "text/plain": [
              "array([[ 4, 12, 14, 24, 24],\n",
              "       [ 2, 21,  9,  7, 22],\n",
              "       [14, 20,  1, 19, 15],\n",
              "       [25,  6,  3, 12, 19],\n",
              "       [ 5, 20, 13, 22, 24]])"
            ]
          },
          "execution_count": 63,
          "metadata": {},
          "output_type": "execute_result"
        }
      ],
      "source": [
        "matriz"
      ]
    },
    {
      "cell_type": "markdown",
      "metadata": {
        "id": "--cPlKZh_x2x"
      },
      "source": [
        "Values above 5"
      ]
    },
    {
      "cell_type": "code",
      "execution_count": null,
      "metadata": {
        "colab": {
          "base_uri": "https://localhost:8080/"
        },
        "id": "N6pK-Amd_qh_",
        "outputId": "ae12c629-68b5-4021-c6b9-6450f49169e6"
      },
      "outputs": [
        {
          "data": {
            "text/plain": [
              "array([12, 14, 24, 24, 21,  9,  7, 22, 14, 20, 19, 15, 25,  6, 12, 19,  5,\n",
              "       20, 13, 22, 24])"
            ]
          },
          "execution_count": 64,
          "metadata": {},
          "output_type": "execute_result"
        }
      ],
      "source": [
        "matriz[matriz >= 5]"
      ]
    },
    {
      "cell_type": "markdown",
      "metadata": {
        "id": "7O4Cw2Iv_4cw"
      },
      "source": [
        "This happens because ` matriz >= 5` returns binary result, possible to be compated with the indexes of the orginal `array`"
      ]
    },
    {
      "cell_type": "code",
      "execution_count": null,
      "metadata": {
        "colab": {
          "base_uri": "https://localhost:8080/"
        },
        "id": "q6Aank7l_vAC",
        "outputId": "3adfb67c-1fdd-4777-eec9-2e2b7ac91081"
      },
      "outputs": [
        {
          "data": {
            "text/plain": [
              "array([[False,  True,  True,  True,  True],\n",
              "       [False,  True,  True,  True,  True],\n",
              "       [ True,  True, False,  True,  True],\n",
              "       [ True,  True, False,  True,  True],\n",
              "       [ True,  True,  True,  True,  True]])"
            ]
          },
          "execution_count": 65,
          "metadata": {},
          "output_type": "execute_result"
        }
      ],
      "source": [
        "matriz >= 5"
      ]
    },
    {
      "cell_type": "markdown",
      "metadata": {
        "id": "pnF3SsKYCK0s"
      },
      "source": []
    },
    {
      "cell_type": "markdown",
      "metadata": {
        "id": "gnFn73PfBhc6"
      },
      "source": [
        "### Count"
      ]
    },
    {
      "cell_type": "markdown",
      "metadata": {
        "id": "DRTYlqJlBwru"
      },
      "source": [
        "Count each occurrence of each value ( the index corresponds to the number of times it exsist in the array  and to the value"
      ]
    },
    {
      "cell_type": "code",
      "execution_count": null,
      "metadata": {
        "colab": {
          "base_uri": "https://localhost:8080/"
        },
        "id": "N23SLMW4Bj4B",
        "outputId": "32e7cca8-7201-445c-f2ab-1c56a8853c13"
      },
      "outputs": [
        {
          "data": {
            "text/plain": [
              "array([0, 4, 3, 5, 3])"
            ]
          },
          "execution_count": 66,
          "metadata": {},
          "output_type": "execute_result"
        }
      ],
      "source": [
        "m = np.random.randint(1,5,15)\n",
        "np.bincount(m)"
      ]
    },
    {
      "cell_type": "code",
      "execution_count": null,
      "metadata": {
        "colab": {
          "base_uri": "https://localhost:8080/"
        },
        "id": "FrBulkeVCWPs",
        "outputId": "4667c3f5-ebff-4d76-d1c6-774cd94b57d1"
      },
      "outputs": [
        {
          "data": {
            "text/plain": [
              "array([ 0,  0,  0,  0,  0,  0,  0,  0,  0,  0,  0,  0,  0,  0,  0,  0,  0,\n",
              "        0,  0,  0,  0,  0,  0,  0,  0,  0,  0,  0,  0,  0,  0,  0,  0,  0,\n",
              "        0,  0,  0,  0,  0,  0,  0,  0,  0,  0,  0,  0,  0,  0,  0,  0,  0,\n",
              "        0,  0,  0,  0,  0,  0,  0,  0,  0,  0,  0,  0,  0,  0,  0,  0,  0,\n",
              "        0,  0,  0,  0,  0,  0,  0,  0,  0,  0,  0,  0,  0,  0,  0,  0,  0,\n",
              "        0,  0,  0,  0,  0,  0,  0,  0,  0,  0,  0,  0,  0,  0,  0,  0,  0,\n",
              "        0,  0,  0,  0,  0,  0,  0,  0,  0,  0,  0,  0,  0,  0,  0,  0,  0,\n",
              "        0,  0,  0,  0,  0,  0,  0,  0,  0,  0,  0,  0,  0,  0,  0,  0,  0,\n",
              "        0,  0,  0,  0,  0,  0,  0,  0,  0,  0,  0,  0,  0,  0,  0,  0,  0,\n",
              "        0,  0,  0,  0,  0,  0,  0,  0,  0,  0,  0,  0,  0,  0,  0,  0,  0,\n",
              "        0,  0,  0,  0,  0,  0,  0,  0,  0,  0,  0,  0,  0,  0,  0,  0,  0,\n",
              "        0,  0,  0,  0,  0,  0,  0,  0,  0,  0,  0,  0,  0,  0,  0,  0,  0,\n",
              "        0,  0,  0,  0,  0,  0,  0,  0,  0,  0,  0,  0,  0,  0,  0,  0,  0,\n",
              "        0,  0,  0,  0,  0,  0,  0,  0,  0,  0,  0,  0,  0,  0,  0,  0,  0,\n",
              "        0,  0,  0,  0,  0,  0,  0,  0,  0,  0,  0,  0,  0,  0,  0,  0,  0,\n",
              "        0,  0,  0,  0,  0,  0,  0,  0,  0,  0,  0,  0,  0,  0,  0,  0,  0,\n",
              "        0,  0,  0,  0,  0,  0,  0,  0,  0,  0,  0,  0,  0,  0,  0,  0,  0,\n",
              "        0,  0,  0,  0,  0,  0,  0,  0,  0,  0,  0,  0,  0,  0,  0,  0,  0,\n",
              "        0,  0,  0,  0,  0,  0,  0,  0,  0,  0,  0,  0,  0,  0,  0,  0,  0,\n",
              "        0,  0,  0,  0,  0,  0,  0,  0,  0,  0,  0,  0,  0,  0,  0,  0,  0,\n",
              "        0,  0,  0,  0,  0,  0,  0,  0,  0,  0,  0,  0,  0,  0,  0,  0,  0,\n",
              "        0,  0,  0,  0,  0,  0,  0,  0,  0,  0,  0,  0,  0,  0,  0,  0,  0,\n",
              "        0,  0,  0,  0,  0,  0,  0,  0,  0,  0,  0,  0,  0,  0,  0,  0,  0,\n",
              "        0,  0,  0,  0,  0,  0,  0,  0,  0,  0,  0,  0,  0,  0,  0,  0,  0,\n",
              "        0,  0,  0,  0,  0,  0,  0,  0,  0,  0,  0,  0,  0,  0,  0,  0,  0,\n",
              "        0,  0,  0,  0,  0,  0,  0,  0,  0,  0,  0,  0,  0,  0,  0,  0,  0,\n",
              "        0,  0,  0,  0,  0,  0,  0,  0,  0,  0,  0,  0,  0,  0,  0,  0,  0,\n",
              "        0,  0,  0,  0,  0,  0,  0,  0,  0,  0,  0,  0,  0,  0,  0,  0,  0,\n",
              "        0,  0,  0,  0,  0,  0,  0,  0,  0,  0,  0,  0,  0,  0,  0,  0,  0,\n",
              "        0,  0,  0,  0,  0,  0,  0,  0,  0,  0,  0,  0,  0,  0,  0,  0,  0,\n",
              "        0,  0,  0,  0,  0,  0,  0,  0,  0,  0,  0,  0,  0,  0,  0,  0,  0,\n",
              "        0,  0,  0,  0,  0,  0,  0,  0,  0,  0,  0,  0,  0,  0,  0,  0,  0,\n",
              "        0,  0,  0,  0,  0,  0,  0,  0,  0,  0,  0,  0,  0,  0,  0,  0,  0,\n",
              "        0,  0,  0,  0,  0,  0,  0,  0,  0,  0,  0,  0,  0,  0,  0,  0,  0,\n",
              "        0,  0,  0,  0,  0,  0,  0,  0,  0,  0,  0,  0,  0,  0,  0,  0,  0,\n",
              "        0,  0,  0,  0,  0,  0,  0,  0,  0,  0,  0,  0,  0,  0,  0,  0,  0,\n",
              "        0,  0,  0,  0,  0,  0,  0,  0,  0,  0,  0,  0,  0,  0,  0,  0,  0,\n",
              "        0,  0,  0,  0,  0,  0,  0,  0,  0,  0,  0,  0,  0,  0,  0,  0,  0,\n",
              "        0,  0,  0,  0,  0,  0,  0,  0,  0,  0,  0,  0,  0,  0,  0,  0,  0,\n",
              "        0,  0,  0,  0,  0,  0,  0,  0,  0,  0,  0,  0,  0,  0,  0,  0,  0,\n",
              "        0,  0,  0,  0,  0,  0,  0,  0,  0,  0,  0,  0,  0,  0,  0,  0,  0,\n",
              "        0,  0,  0,  0,  0,  0,  0,  0,  0,  0,  0,  0,  0,  0,  0,  0,  0,\n",
              "        0,  0,  0,  0,  0,  0,  0,  0,  0,  0,  0,  0,  0,  0,  0,  0,  0,\n",
              "        0,  0,  0,  0,  0,  0,  0,  0,  0,  0,  0,  0,  0,  0,  0,  0,  0,\n",
              "        0,  0,  0,  0,  0,  0,  0,  0,  0,  0,  0,  0,  0,  0,  0,  0,  0,\n",
              "        0,  0,  0,  0,  0,  0,  0,  0,  0,  0,  0,  0,  0,  0,  0,  0,  0,\n",
              "        0,  0,  0,  0,  0,  0,  0,  0,  0,  0,  0,  0,  0,  0,  0,  0,  0,\n",
              "        0,  0,  0,  0,  0,  0,  0,  0,  0,  0,  0,  0,  0,  0,  0,  0,  0,\n",
              "        0,  0,  0,  0,  0,  0,  0,  0,  0,  0,  0,  0,  0,  0,  0,  0,  0,\n",
              "        0,  0,  0,  0,  0,  0,  0,  0,  0,  0,  0,  0,  0,  0,  0,  0,  0,\n",
              "        0,  0,  0,  0,  0,  0,  0,  0,  0,  0,  0,  0,  0,  0,  0,  0,  0,\n",
              "        0,  0,  0,  0,  0,  0,  0,  0,  0,  0,  0,  0,  0,  0,  0,  0,  0,\n",
              "        0,  0,  0,  0,  0,  0,  0,  0,  0,  0,  0,  0,  0,  0,  0,  0, 19,\n",
              "        7, 13,  6,  9, 18,  9,  5, 10,  4, 12,  8,  5,  9, 11, 12, 11,  9,\n",
              "       11,  9, 12, 17,  4,  9, 10, 11,  7, 13, 16, 13,  7, 10, 12, 10, 13,\n",
              "        8, 13, 10,  6, 13, 12,  5,  7,  6, 12, 12,  8,  8, 13,  5, 17, 10,\n",
              "       15,  6, 11,  8,  9, 13, 12,  9,  9, 18, 10, 15, 10, 12,  6,  9, 13,\n",
              "        6, 16,  6,  4,  8, 11,  8, 13,  4,  8, 13,  7,  8,  7, 13, 15,  7,\n",
              "        5,  5,  6, 10, 10,  6,  9, 13,  7, 12, 15, 11, 18,  8])"
            ]
          },
          "execution_count": 67,
          "metadata": {},
          "output_type": "execute_result"
        }
      ],
      "source": [
        "m = np.random.randint(900,1000,1000)\n",
        "np.bincount(m)"
      ]
    },
    {
      "cell_type": "markdown",
      "metadata": {
        "id": "iObqK8XpDB7v"
      },
      "source": [
        "### Boolean operators"
      ]
    },
    {
      "cell_type": "markdown",
      "metadata": {
        "id": "v7g1YTriDtna"
      },
      "source": [
        "Chained"
      ]
    },
    {
      "cell_type": "code",
      "execution_count": null,
      "metadata": {
        "colab": {
          "base_uri": "https://localhost:8080/"
        },
        "id": "CUgtBOuEDF8g",
        "outputId": "a8f6f594-d3c4-429a-9f36-7acefc8b00c2"
      },
      "outputs": [
        {
          "data": {
            "text/plain": [
              "array([ True,  True,  True, False,  True,  True,  True, False,  True])"
            ]
          },
          "execution_count": 68,
          "metadata": {},
          "output_type": "execute_result"
        }
      ],
      "source": [
        "n = np.array([1,1,3,4,5,5,7,8,9])\n",
        "( n < 4) | ( n % 2 == 1)"
      ]
    },
    {
      "cell_type": "code",
      "execution_count": null,
      "metadata": {
        "colab": {
          "base_uri": "https://localhost:8080/"
        },
        "id": "xOHqnAmyDRJk",
        "outputId": "9f098091-cfb4-4ec3-9491-466f8ec55e07"
      },
      "outputs": [
        {
          "data": {
            "text/plain": [
              "array([1, 1, 3])"
            ]
          },
          "execution_count": 69,
          "metadata": {},
          "output_type": "execute_result"
        }
      ],
      "source": [
        "n[ ( n < 4 ) & ( n % 2 == 1)]"
      ]
    },
    {
      "cell_type": "markdown",
      "metadata": {
        "id": "54uZyGiBD1ta"
      },
      "source": [
        "### Conditionals"
      ]
    },
    {
      "cell_type": "code",
      "execution_count": null,
      "metadata": {
        "colab": {
          "base_uri": "https://localhost:8080/"
        },
        "id": "r3UHlfGsD3n_",
        "outputId": "9f4c9e78-7f4a-4942-a2f4-fb662bd49305"
      },
      "outputs": [
        {
          "name": "stdout",
          "output_type": "stream",
          "text": [
            "[[1 1 3]\n",
            " [4 5 5]\n",
            " [7 8 9]]\n",
            "\n"
          ]
        },
        {
          "data": {
            "text/plain": [
              "array([[0, 0, 0],\n",
              "       [4, 5, 5],\n",
              "       [7, 8, 9]])"
            ]
          },
          "execution_count": 71,
          "metadata": {},
          "output_type": "execute_result"
        }
      ],
      "source": [
        "n = n.reshape(3,3)\n",
        "print(n)\n",
        "print()\n",
        "np.where(n < 4, 0,n)"
      ]
    },
    {
      "cell_type": "markdown",
      "metadata": {
        "id": "h5WePujXFBh5"
      },
      "source": [
        "Ex 4"
      ]
    },
    {
      "cell_type": "code",
      "execution_count": null,
      "metadata": {
        "colab": {
          "base_uri": "https://localhost:8080/"
        },
        "id": "OZrgdlMKEIT6",
        "outputId": "a6055a6a-0854-4aeb-cab6-4f2414290f2c"
      },
      "outputs": [
        {
          "data": {
            "text/plain": [
              "array([[ 1,  2,  3,  4,  5],\n",
              "       [ 6,  7,  8,  9, 10],\n",
              "       [11, 12, 13, 14, 15],\n",
              "       [16, 17, 18, 19, 20],\n",
              "       [21, 22, 23, 24, 25]])"
            ]
          },
          "execution_count": 72,
          "metadata": {},
          "output_type": "execute_result"
        }
      ],
      "source": [
        "support = np.arange(1,26).reshape(5,5)\n",
        "support"
      ]
    },
    {
      "cell_type": "code",
      "execution_count": null,
      "metadata": {
        "colab": {
          "base_uri": "https://localhost:8080/"
        },
        "id": "p1quRCN2EIDQ",
        "outputId": "d4f36e57-9d79-44ba-ccbd-69eb8d49000d"
      },
      "outputs": [
        {
          "data": {
            "text/plain": [
              "array([[12, 13, 14, 15],\n",
              "       [17, 18, 19, 20],\n",
              "       [22, 23, 24, 25]])"
            ]
          },
          "execution_count": 87,
          "metadata": {},
          "output_type": "execute_result"
        }
      ],
      "source": [
        "support[2:,1:]"
      ]
    },
    {
      "cell_type": "markdown",
      "metadata": {
        "id": "5o4rwipeFC_7"
      },
      "source": [
        "Ex 5"
      ]
    },
    {
      "cell_type": "markdown",
      "metadata": {
        "id": "TEEdoTmiFLiH"
      },
      "source": [
        "Get the sum of `support` array"
      ]
    },
    {
      "cell_type": "code",
      "execution_count": null,
      "metadata": {
        "colab": {
          "base_uri": "https://localhost:8080/"
        },
        "id": "6qUz2xdqFESM",
        "outputId": "bad7ec53-721b-4e9c-d70c-cf1a6a551d0a"
      },
      "outputs": [
        {
          "data": {
            "text/plain": [
              "325"
            ]
          },
          "execution_count": 88,
          "metadata": {},
          "output_type": "execute_result"
        }
      ],
      "source": [
        "np.sum(support)"
      ]
    },
    {
      "cell_type": "markdown",
      "metadata": {
        "id": "13dQoBHjFOtJ"
      },
      "source": [
        "Ex 6"
      ]
    },
    {
      "cell_type": "code",
      "execution_count": null,
      "metadata": {
        "id": "UyeC-u0ZIJ3P"
      },
      "outputs": [],
      "source": []
    },
    {
      "cell_type": "markdown",
      "metadata": {
        "id": "LkzHcvNuFPin"
      },
      "source": [
        "Get the sum of each column in the `support` array"
      ]
    },
    {
      "cell_type": "code",
      "execution_count": null,
      "metadata": {
        "colab": {
          "base_uri": "https://localhost:8080/"
        },
        "id": "fRN0iNnQFVV5",
        "outputId": "5c3a19f3-e0c3-47bc-fdfc-54815d082bb1"
      },
      "outputs": [
        {
          "data": {
            "text/plain": [
              "array([55, 60, 65, 70, 75])"
            ]
          },
          "execution_count": 89,
          "metadata": {},
          "output_type": "execute_result"
        }
      ],
      "source": [
        "np.sum(support,axis=0)"
      ]
    },
    {
      "cell_type": "markdown",
      "metadata": {
        "id": "bnnvp8iBIGe2"
      },
      "source": [
        "#### Week 3:\n"
      ]
    },
    {
      "cell_type": "markdown",
      "metadata": {
        "id": "Xy6Ki8aTIYk6"
      },
      "source": [
        "exericise 1"
      ]
    },
    {
      "cell_type": "code",
      "execution_count": null,
      "metadata": {
        "colab": {
          "base_uri": "https://localhost:8080/"
        },
        "id": "oTN8EITpH26e",
        "outputId": "66ce3cff-fcce-4402-b2f7-80260d32bd55"
      },
      "outputs": [
        {
          "data": {
            "text/plain": [
              "array([10, 12, 14, 16, 18, 20, 22, 24, 26, 28, 30, 32, 34, 36, 38, 40, 42,\n",
              "       44, 46, 48, 50])"
            ]
          },
          "execution_count": 2,
          "metadata": {},
          "output_type": "execute_result"
        }
      ],
      "source": [
        "import numpy as np\n",
        "np.arange(10,51,2)"
      ]
    },
    {
      "cell_type": "markdown",
      "metadata": {
        "id": "HSG6_VKcIgIG"
      },
      "source": [
        "Exercise 4"
      ]
    },
    {
      "cell_type": "code",
      "execution_count": null,
      "metadata": {
        "colab": {
          "base_uri": "https://localhost:8080/"
        },
        "id": "wM59Bz3qInSZ",
        "outputId": "b78af8c5-73a7-421c-9053-c108e5c5643f"
      },
      "outputs": [
        {
          "data": {
            "text/plain": [
              "array([[ 1,  2,  3,  4,  5],\n",
              "       [ 6,  7,  8,  9, 10],\n",
              "       [11, 12, 13, 14, 15],\n",
              "       [16, 17, 18, 19, 20],\n",
              "       [21, 22, 23, 24, 25]])"
            ]
          },
          "execution_count": 4,
          "metadata": {},
          "output_type": "execute_result"
        }
      ],
      "source": [
        "support = np.arange(1,26).reshape(5,5)\n",
        "support"
      ]
    },
    {
      "cell_type": "code",
      "execution_count": null,
      "metadata": {
        "colab": {
          "base_uri": "https://localhost:8080/"
        },
        "id": "A_tldYF7IwZs",
        "outputId": "8108feac-62f7-4777-976b-588373e2aa99"
      },
      "outputs": [
        {
          "data": {
            "text/plain": [
              "array([[12, 13, 14, 15],\n",
              "       [17, 18, 19, 20],\n",
              "       [22, 23, 24, 25]])"
            ]
          },
          "execution_count": 5,
          "metadata": {},
          "output_type": "execute_result"
        }
      ],
      "source": [
        "support[2:,1:]"
      ]
    },
    {
      "cell_type": "markdown",
      "metadata": {
        "id": "PY9ME6bnI7On"
      },
      "source": [
        "Exercise 5\n"
      ]
    },
    {
      "cell_type": "code",
      "execution_count": null,
      "metadata": {
        "colab": {
          "base_uri": "https://localhost:8080/"
        },
        "id": "Cn-5Z-P_I9gF",
        "outputId": "24273143-5004-45eb-a08d-b104a7904725"
      },
      "outputs": [
        {
          "data": {
            "text/plain": [
              "325"
            ]
          },
          "execution_count": 6,
          "metadata": {},
          "output_type": "execute_result"
        }
      ],
      "source": [
        "np.sum(support)"
      ]
    },
    {
      "cell_type": "markdown",
      "metadata": {
        "id": "6VAzIMYgNN1d"
      },
      "source": [
        "Exercise 6"
      ]
    },
    {
      "cell_type": "code",
      "execution_count": null,
      "metadata": {
        "colab": {
          "base_uri": "https://localhost:8080/"
        },
        "id": "xF0PYd75NNb9",
        "outputId": "388f3e96-ec45-431d-acc1-7a0e7ab8464f"
      },
      "outputs": [
        {
          "data": {
            "text/plain": [
              "array([55, 60, 65, 70, 75])"
            ]
          },
          "execution_count": 8,
          "metadata": {},
          "output_type": "execute_result"
        }
      ],
      "source": [
        "np.sum(support,axis=0)"
      ]
    },
    {
      "cell_type": "markdown",
      "metadata": {
        "id": "Q0e9a5gGNjjF"
      },
      "source": [
        "Exercise 7"
      ]
    },
    {
      "cell_type": "code",
      "execution_count": null,
      "metadata": {
        "colab": {
          "base_uri": "https://localhost:8080/"
        },
        "id": "EXql6GUrNlYW",
        "outputId": "331ea2ad-4458-4eb4-887e-a9dac10bbe89"
      },
      "outputs": [
        {
          "data": {
            "text/plain": [
              "array([ 7.     ,  7.40625,  7.8125 ,  8.21875,  8.625  ,  9.03125,\n",
              "        9.4375 ,  9.84375, 10.25   , 10.65625, 11.0625 , 11.46875,\n",
              "       11.875  , 12.28125, 12.6875 , 13.09375, 13.5    , 13.90625,\n",
              "       14.3125 , 14.71875, 15.125  , 15.53125, 15.9375 , 16.34375,\n",
              "       16.75   , 17.15625, 17.5625 , 17.96875, 18.375  , 18.78125,\n",
              "       19.1875 , 19.59375, 20.     ])"
            ]
          },
          "execution_count": 9,
          "metadata": {},
          "output_type": "execute_result"
        }
      ],
      "source": [
        "np.linspace(7,20,33)"
      ]
    },
    {
      "cell_type": "code",
      "execution_count": null,
      "metadata": {
        "id": "sxFx_OFaTdyF"
      },
      "outputs": [],
      "source": []
    },
    {
      "cell_type": "markdown",
      "metadata": {
        "id": "zSwO_fpDScv2"
      },
      "source": [
        "Exercise 8"
      ]
    },
    {
      "cell_type": "code",
      "execution_count": null,
      "metadata": {
        "colab": {
          "base_uri": "https://localhost:8080/"
        },
        "id": "tleMedAuScf-",
        "outputId": "71645ad3-48d8-47f2-f19e-caab2e290476"
      },
      "outputs": [
        {
          "data": {
            "text/plain": [
              "array([[5, 5, 5],\n",
              "       [5, 5, 5]])"
            ]
          },
          "execution_count": 10,
          "metadata": {},
          "output_type": "execute_result"
        }
      ],
      "source": [
        "np.full((2,3),5)"
      ]
    },
    {
      "cell_type": "markdown",
      "metadata": {
        "id": "HpHReM8rSn-d"
      },
      "source": [
        "Exercise 9"
      ]
    },
    {
      "cell_type": "code",
      "execution_count": null,
      "metadata": {
        "colab": {
          "base_uri": "https://localhost:8080/"
        },
        "id": "O-spD_n8SqDf",
        "outputId": "026c3399-403f-4a7e-cc68-97ae1a2f9362"
      },
      "outputs": [
        {
          "data": {
            "text/plain": [
              "array([[5., 5., 5.],\n",
              "       [5., 5., 5.]])"
            ]
          },
          "execution_count": 12,
          "metadata": {},
          "output_type": "execute_result"
        }
      ],
      "source": [
        "np.ones((2,3)) * 5"
      ]
    },
    {
      "cell_type": "markdown",
      "metadata": {
        "id": "R3b7UbCyTD5V"
      },
      "source": [
        "Exercise 10"
      ]
    },
    {
      "cell_type": "code",
      "execution_count": null,
      "metadata": {
        "colab": {
          "base_uri": "https://localhost:8080/"
        },
        "id": "R2WQtywsTF7Y",
        "outputId": "bfb6b84a-6b65-4393-d936-179eeaeea64f"
      },
      "outputs": [
        {
          "data": {
            "text/plain": [
              "array([[4, 6, 4, 0, 5],\n",
              "       [3, 8, 3, 1, 6],\n",
              "       [3, 0, 4, 5, 7],\n",
              "       [4, 3, 9, 1, 3],\n",
              "       [5, 8, 2, 5, 8]])"
            ]
          },
          "execution_count": 14,
          "metadata": {},
          "output_type": "execute_result"
        }
      ],
      "source": [
        "np.random.randint(0,10,25).reshape(5,5)"
      ]
    },
    {
      "cell_type": "code",
      "execution_count": null,
      "metadata": {
        "colab": {
          "base_uri": "https://localhost:8080/"
        },
        "id": "LCWhPUcladoM",
        "outputId": "0caf98b0-fa95-48d5-b63a-3683252b3edc"
      },
      "outputs": [
        {
          "data": {
            "text/plain": [
              "array([[9, 9, 0, 6, 3],\n",
              "       [5, 8, 4, 7, 7],\n",
              "       [9, 9, 0, 0, 9],\n",
              "       [1, 7, 7, 4, 1],\n",
              "       [8, 6, 8, 4, 5]])"
            ]
          },
          "execution_count": 17,
          "metadata": {},
          "output_type": "execute_result"
        }
      ],
      "source": [
        "np.random.randint(0,10,size=(5,5))"
      ]
    },
    {
      "cell_type": "markdown",
      "metadata": {
        "id": "-vCFp8CFWpSF"
      },
      "source": [
        "Exercise 11"
      ]
    },
    {
      "cell_type": "code",
      "execution_count": null,
      "metadata": {
        "id": "9uo9-2FnWq7X"
      },
      "outputs": [],
      "source": [
        "e11 = np.array([10,1,5,2])"
      ]
    },
    {
      "cell_type": "code",
      "execution_count": null,
      "metadata": {
        "colab": {
          "base_uri": "https://localhost:8080/"
        },
        "id": "DZ_CKE3gWyoJ",
        "outputId": "f6a4eb68-8241-43ff-ce24-55eb738f4f50"
      },
      "outputs": [
        {
          "data": {
            "text/plain": [
              "array([1, 3, 2, 0])"
            ]
          },
          "execution_count": 16,
          "metadata": {},
          "output_type": "execute_result"
        }
      ],
      "source": [
        "np.argsort(e11)"
      ]
    },
    {
      "cell_type": "markdown",
      "metadata": {
        "id": "eVVDYTr7cVF0"
      },
      "source": [
        "Exercise 12"
      ]
    },
    {
      "cell_type": "code",
      "execution_count": null,
      "metadata": {
        "colab": {
          "base_uri": "https://localhost:8080/"
        },
        "id": "AzOq-uH4cU3W",
        "outputId": "740ffbd2-6299-4a28-e048-f2073e6ed8e6"
      },
      "outputs": [
        {
          "data": {
            "text/plain": [
              "array([0., 0., 0., 0., 0., 0., 0., 0., 0., 0.])"
            ]
          },
          "execution_count": 24,
          "metadata": {},
          "output_type": "execute_result"
        }
      ],
      "source": [
        " n = np.zeros(10)\n",
        " n"
      ]
    },
    {
      "cell_type": "markdown",
      "metadata": {
        "id": "w4jDwYm5d_zK"
      },
      "source": [
        "Exercise 13\n"
      ]
    },
    {
      "cell_type": "code",
      "execution_count": null,
      "metadata": {
        "colab": {
          "base_uri": "https://localhost:8080/"
        },
        "id": "MPhWw_SyeBWz",
        "outputId": "6bc2965e-3a47-4038-95c3-a550b7aae042"
      },
      "outputs": [
        {
          "data": {
            "text/plain": [
              "array([ 0,  1,  2,  3,  4,  5,  6,  7,  8,  9, 10, 11, 12, 13, 14, 15, 16,\n",
              "       17, 18, 19, 20, 21, 22, 23, 24, 25, 26, 27, 28, 29, 30, 31, 32, 33,\n",
              "       34, 35, 36, 37, 38, 39, 40, 41, 42, 43, 44, 45, 46, 47, 48, 49])"
            ]
          },
          "execution_count": 21,
          "metadata": {},
          "output_type": "execute_result"
        }
      ],
      "source": [
        "e13 = np.arange(50)\n",
        "e13"
      ]
    },
    {
      "cell_type": "code",
      "execution_count": null,
      "metadata": {
        "colab": {
          "base_uri": "https://localhost:8080/"
        },
        "id": "lhQN6r8EeHWM",
        "outputId": "011ddc1b-fad2-49b7-87a3-47ed428cf54f"
      },
      "outputs": [
        {
          "data": {
            "text/plain": [
              "array([49, 48, 47, 46, 45, 44, 43, 42, 41, 40, 39, 38, 37, 36, 35, 34, 33,\n",
              "       32, 31, 30, 29, 28, 27, 26, 25, 24, 23, 22, 21, 20, 19, 18, 17, 16,\n",
              "       15, 14, 13, 12, 11, 10,  9,  8,  7,  6,  5,  4,  3,  2,  1,  0])"
            ]
          },
          "execution_count": 22,
          "metadata": {},
          "output_type": "execute_result"
        }
      ],
      "source": [
        "np.flip(e13)"
      ]
    },
    {
      "cell_type": "markdown",
      "metadata": {
        "id": "SZjqwR-bhj-F"
      },
      "source": [
        "Exercise 14"
      ]
    },
    {
      "cell_type": "code",
      "execution_count": null,
      "metadata": {
        "id": "ZN7KfS85hcG-"
      },
      "outputs": [],
      "source": [
        "e14 = np.asarray(\n",
        "    [\n",
        "        [0, 0, 0, 1, 0, 2, 2, 1, 2, 1],\n",
        "        [1, 1, 0, 0, 0, 2, 2, 2, 2, 2],\n",
        "        [2, 1, 0, 0, 2, 1, 2, 1, 0, 2],\n",
        "    ]\n",
        ")"
      ]
    },
    {
      "cell_type": "code",
      "execution_count": null,
      "metadata": {
        "colab": {
          "base_uri": "https://localhost:8080/"
        },
        "id": "XL-ehJjWhfqN",
        "outputId": "4874c54e-ac71-490f-a488-febbc5dd71d9"
      },
      "outputs": [
        {
          "output_type": "execute_result",
          "data": {
            "text/plain": [
              "array([False, False,  True, False, False, False, False, False, False,\n",
              "       False])"
            ]
          },
          "metadata": {},
          "execution_count": 10
        }
      ],
      "source": [
        "np.all(e14 == 0,axis = 0)"
      ]
    },
    {
      "cell_type": "code",
      "execution_count": null,
      "metadata": {
        "colab": {
          "base_uri": "https://localhost:8080/"
        },
        "id": "45tYfHKehwoL",
        "outputId": "6fcbf1ba-2bff-45b6-d414-f31d541b1769"
      },
      "outputs": [
        {
          "output_type": "execute_result",
          "data": {
            "text/plain": [
              "array([False, False,  True, False, False, False, False, False, False,\n",
              "       False])"
            ]
          },
          "metadata": {},
          "execution_count": 11
        }
      ],
      "source": [
        "~np.any(e14,axis=0)"
      ]
    },
    {
      "cell_type": "markdown",
      "metadata": {
        "id": "IFNlnL1bgmYt"
      },
      "source": [
        "Exercise 15"
      ]
    },
    {
      "cell_type": "code",
      "execution_count": null,
      "metadata": {
        "id": "kvq9X5kFgpGc"
      },
      "outputs": [],
      "source": [
        "e15 = np.asarray(\n",
        "    [\n",
        "        0.17454141,\n",
        "        0.99539772,\n",
        "        0.88173332,\n",
        "        0.44758664,\n",
        "        0.93542504,\n",
        "        0.95911264,\n",
        "        0.13585902,\n",
        "        0.80207084,\n",
        "        0.23044445,\n",
        "        0.44560187,\n",
        "    ])"
      ]
    },
    {
      "cell_type": "code",
      "execution_count": null,
      "metadata": {
        "id": "jyUp5FebgtWr"
      },
      "outputs": [],
      "source": [
        "idx = [np.abs(x - 0.5) for x in e15]"
      ]
    },
    {
      "cell_type": "code",
      "execution_count": null,
      "metadata": {
        "colab": {
          "base_uri": "https://localhost:8080/"
        },
        "id": "pRzUC8A0htx1",
        "outputId": "f597f58d-3b53-45e8-87bb-a503d47b37af"
      },
      "outputs": [
        {
          "output_type": "execute_result",
          "data": {
            "text/plain": [
              "0.44758664"
            ]
          },
          "metadata": {},
          "execution_count": 14
        }
      ],
      "source": [
        "e15[np.argmin(idx)]"
      ]
    },
    {
      "cell_type": "markdown",
      "metadata": {
        "id": "eNSS8_9mmbn-"
      },
      "source": [
        "Exercise 16"
      ]
    },
    {
      "cell_type": "code",
      "execution_count": null,
      "metadata": {
        "id": "iulCt9GkmdtA"
      },
      "outputs": [],
      "source": [
        "e16 = np.asarray(\n",
        "    [\n",
        "        [1, 0, 9, 7, 7, 0, 5, 8, 7, 0],\n",
        "        [3, 8, 6, 2, 1, 9, 3, 0, 9, 1],\n",
        "        [8, 1, 9, 4, 4, 7, 5, 3, 1, 2],\n",
        "        [6, 8, 4, 7, 3, 1, 5, 6, 7, 4],\n",
        "        [6, 9, 9, 4, 1, 7, 1, 9, 1, 0],\n",
        "    ]\n",
        ")"
      ]
    },
    {
      "cell_type": "code",
      "execution_count": null,
      "metadata": {
        "colab": {
          "base_uri": "https://localhost:8080/"
        },
        "id": "1hFURMggmh8x",
        "outputId": "58f92d24-1544-4971-dfd7-112880873cec"
      },
      "outputs": [
        {
          "data": {
            "text/plain": [
              "array([[-3.4, -4.4,  4.6,  2.6,  2.6, -4.4,  0.6,  3.6,  2.6, -4.4],\n",
              "       [-1.2,  3.8,  1.8, -2.2, -3.2,  4.8, -1.2, -4.2,  4.8, -3.2],\n",
              "       [ 3.6, -3.4,  4.6, -0.4, -0.4,  2.6,  0.6, -1.4, -3.4, -2.4],\n",
              "       [ 0.9,  2.9, -1.1,  1.9, -2.1, -4.1, -0.1,  0.9,  1.9, -1.1],\n",
              "       [ 1.3,  4.3,  4.3, -0.7, -3.7,  2.3, -3.7,  4.3, -3.7, -4.7]])"
            ]
          },
          "execution_count": 42,
          "metadata": {},
          "output_type": "execute_result"
        }
      ],
      "source": [
        " e16 - np.mean(e16,axis=1,keepdims=True)"
      ]
    },
    {
      "cell_type": "markdown",
      "metadata": {
        "id": "14aAramXp9_7"
      },
      "source": []
    },
    {
      "cell_type": "code",
      "execution_count": null,
      "metadata": {
        "colab": {
          "base_uri": "https://localhost:8080/"
        },
        "id": "b5e5GEA1qARj",
        "outputId": "21aab826-0aa3-483d-f1bb-18795c8403d8"
      },
      "outputs": [
        {
          "output_type": "stream",
          "name": "stdout",
          "text": [
            "[False False  True  True False  True False  True False False False  True]\n",
            "(array([ 2,  3,  5,  7, 11]),)\n"
          ]
        }
      ],
      "source": [
        "import numpy as np\n",
        "def prime_sieve(n: int) -> np.ndarray:\n",
        "    primes = np.full(n + 1, True)\n",
        "    primes[0] = False\n",
        "    primes[1] = False\n",
        "    for i in range(2,n):\n",
        "      primes[2*i::i] = False\n",
        "    print(primes)\n",
        "    print(np.nonzero(primes))\n",
        "prime_sieve(11)"
      ]
    },
    {
      "cell_type": "markdown",
      "source": [
        "# Using dense and sparse matrices with NumPy and SciPy"
      ],
      "metadata": {
        "id": "Go2w6RsGlcGa"
      }
    },
    {
      "cell_type": "code",
      "source": [
        "n = np.bincount([4,1000,1000,1200])"
      ],
      "metadata": {
        "id": "sZqvBBR7lfoT"
      },
      "execution_count": null,
      "outputs": []
    },
    {
      "cell_type": "code",
      "source": [
        "def dispersion(matriz) -> np.array:\n",
        "  return (matriz == 0).sum() / matriz.size"
      ],
      "metadata": {
        "id": "9nN-BZUFr46W"
      },
      "execution_count": null,
      "outputs": []
    },
    {
      "cell_type": "markdown",
      "source": [],
      "metadata": {
        "id": "Phmr9mjlsGXw"
      }
    },
    {
      "cell_type": "code",
      "source": [
        "dispersion(n)"
      ],
      "metadata": {
        "colab": {
          "base_uri": "https://localhost:8080/"
        },
        "id": "saDsIPGxsG1V",
        "outputId": "2f05f1f7-d85e-45c3-8e1b-fe370dd7bc8c"
      },
      "execution_count": null,
      "outputs": [
        {
          "output_type": "execute_result",
          "data": {
            "text/plain": [
              "0.9975020815986678"
            ]
          },
          "metadata": {},
          "execution_count": 10
        }
      ]
    },
    {
      "cell_type": "code",
      "source": [
        "a = np.array([[9,5,9],\n",
        "             [9,5,8],\n",
        "             [7,5,3],\n",
        "             [5,3,9],\n",
        "             [7,7,6]])\n",
        "a"
      ],
      "metadata": {
        "colab": {
          "base_uri": "https://localhost:8080/"
        },
        "id": "jyTLLOqhsG6w",
        "outputId": "243ca432-904f-4a7f-fe59-ae7c6351bf2b"
      },
      "execution_count": null,
      "outputs": [
        {
          "output_type": "execute_result",
          "data": {
            "text/plain": [
              "array([[9, 5, 9],\n",
              "       [9, 5, 8],\n",
              "       [7, 5, 3],\n",
              "       [5, 3, 9],\n",
              "       [7, 7, 6]])"
            ]
          },
          "metadata": {},
          "execution_count": 12
        }
      ]
    },
    {
      "cell_type": "code",
      "source": [
        "np.apply_along_axis(lambda arr: arr.min() / arr.max(),1,a)"
      ],
      "metadata": {
        "colab": {
          "base_uri": "https://localhost:8080/"
        },
        "id": "SV3H7XVQCC2e",
        "outputId": "846b37a3-876e-41ee-9155-527066f53b1a"
      },
      "execution_count": null,
      "outputs": [
        {
          "output_type": "execute_result",
          "data": {
            "text/plain": [
              "array([0.55555556, 0.55555556, 0.42857143, 0.33333333, 0.85714286])"
            ]
          },
          "metadata": {},
          "execution_count": 14
        }
      ]
    },
    {
      "cell_type": "code",
      "source": [
        "a = np.array([[9,4,15,0,17],[16,17,8,9,0]])\n",
        "a"
      ],
      "metadata": {
        "colab": {
          "base_uri": "https://localhost:8080/"
        },
        "id": "ZzbxlB-OEiup",
        "outputId": "a7ca5f55-060a-4b6b-ecfd-a40939f5c1ab"
      },
      "execution_count": null,
      "outputs": [
        {
          "output_type": "execute_result",
          "data": {
            "text/plain": [
              "array([[ 9,  4, 15,  0, 17],\n",
              "       [16, 17,  8,  9,  0]])"
            ]
          },
          "metadata": {},
          "execution_count": 15
        }
      ]
    },
    {
      "cell_type": "code",
      "source": [
        "np.ravel(a,order=\"A\")"
      ],
      "metadata": {
        "colab": {
          "base_uri": "https://localhost:8080/"
        },
        "id": "Sm5NIOGoEriO",
        "outputId": "0fedd47a-f5e8-4d15-fca8-4058720baa39"
      },
      "execution_count": null,
      "outputs": [
        {
          "output_type": "execute_result",
          "data": {
            "text/plain": [
              "array([ 9,  4, 15,  0, 17, 16, 17,  8,  9,  0])"
            ]
          },
          "metadata": {},
          "execution_count": 17
        }
      ]
    }
  ],
  "metadata": {
    "colab": {
      "provenance": [],
      "toc_visible": true,
      "authorship_tag": "ABX9TyMpfyKhHFUfgPAO2+fzCrt/",
      "include_colab_link": true
    },
    "kernelspec": {
      "display_name": "Python 3",
      "name": "python3"
    },
    "language_info": {
      "name": "python"
    }
  },
  "nbformat": 4,
  "nbformat_minor": 0
}