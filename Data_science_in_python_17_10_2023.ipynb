{
  "nbformat": 4,
  "nbformat_minor": 0,
  "metadata": {
    "colab": {
      "provenance": [],
      "authorship_tag": "ABX9TyP0C/STlzOF3SGSXl266nSg",
      "include_colab_link": true
    },
    "kernelspec": {
      "name": "python3",
      "display_name": "Python 3"
    },
    "language_info": {
      "name": "python"
    }
  },
  "cells": [
    {
      "cell_type": "markdown",
      "metadata": {
        "id": "view-in-github",
        "colab_type": "text"
      },
      "source": [
        "<a href=\"https://colab.research.google.com/github/code-dresser/Data-Science-in-Python/blob/main/Data_science_in_python_17_10_2023.ipynb\" target=\"_parent\"><img src=\"https://colab.research.google.com/assets/colab-badge.svg\" alt=\"Open In Colab\"/></a>"
      ]
    },
    {
      "cell_type": "markdown",
      "source": [],
      "metadata": {
        "id": "YXNfRejISkr1"
      }
    },
    {
      "cell_type": "code",
      "source": [
        "import numpy\n",
        "import pandas\n",
        "import matplotlib"
      ],
      "metadata": {
        "id": "zR7TMK9KUejL"
      },
      "execution_count": 3,
      "outputs": []
    },
    {
      "cell_type": "markdown",
      "source": [
        "# Numpy\n",
        "\n",
        "1. Managing lists, dictionaries, sets and tuples\n",
        "2. Operations on N-dimensional arrays with Numpy\n",
        "3. Operations with dense or sparse arrays with Numpy and SciPy\n",
        "4. Dumping and retrival of dataset\n",
        "---\n",
        "Numpy provides a huge range of fast and efficient ways to create and manipulate numerical data within them. While Python list can contain different types of data within single list, Numpy array **must be** homogenous. Mathematical operations that can be performed on arrays would be extremely inefficient if the data were not homogeneous.\n",
        "\n",
        "\n"
      ],
      "metadata": {
        "id": "a9PNEaKhcBRZ"
      }
    },
    {
      "cell_type": "markdown",
      "source": [
        "# List, dictionaries, set and tuples\n",
        "\n",
        "---\n",
        "\n"
      ],
      "metadata": {
        "id": "iTHXQq6seo-A"
      }
    },
    {
      "cell_type": "code",
      "source": [
        "import numpy as np"
      ],
      "metadata": {
        "id": "qTTdhA8fe8Fe"
      },
      "execution_count": 4,
      "outputs": []
    },
    {
      "cell_type": "markdown",
      "source": [
        "*Althrough Numpy can work with all numeric types, most methods return **float** value*"
      ],
      "metadata": {
        "id": "GC59fbw9f_yl"
      }
    },
    {
      "cell_type": "markdown",
      "source": [
        "### Create a list/array in Numpy"
      ],
      "metadata": {
        "id": "CHS-6G8mgYrx"
      }
    },
    {
      "cell_type": "markdown",
      "source": [
        "From Python list"
      ],
      "metadata": {
        "id": "9WpfRkPGhnr9"
      }
    },
    {
      "cell_type": "code",
      "source": [
        "my_list = [1,2,3,4,5]\n",
        "np.array(my_list)"
      ],
      "metadata": {
        "colab": {
          "base_uri": "https://localhost:8080/"
        },
        "id": "mr0YzYvAgYcZ",
        "outputId": "9bf32bf0-67d7-47b9-e81e-46696e31ed8b"
      },
      "execution_count": 6,
      "outputs": [
        {
          "output_type": "execute_result",
          "data": {
            "text/plain": [
              "array([1, 2, 3, 4, 5])"
            ]
          },
          "metadata": {},
          "execution_count": 6
        }
      ]
    },
    {
      "cell_type": "code",
      "source": [
        "my_matrix = [ [1,2,3],\n",
        "              [5,6,7],\n",
        "              [8,9,0]]\n",
        "np.array(my_matrix)"
      ],
      "metadata": {
        "colab": {
          "base_uri": "https://localhost:8080/"
        },
        "id": "c5CJPBGnh4J4",
        "outputId": "7cd77e51-a384-4b53-9473-1e5b84b3a489"
      },
      "execution_count": 7,
      "outputs": [
        {
          "output_type": "execute_result",
          "data": {
            "text/plain": [
              "array([[1, 2, 3],\n",
              "       [5, 6, 7],\n",
              "       [8, 9, 0]])"
            ]
          },
          "metadata": {},
          "execution_count": 7
        }
      ]
    },
    {
      "cell_type": "markdown",
      "source": [
        "Numpy does not accept unbalance matrices"
      ],
      "metadata": {
        "id": "OTsPb1qqiG-a"
      }
    },
    {
      "cell_type": "code",
      "source": [
        "matrix = [ [1,2,3],\n",
        "              [4,5,6,7,8]]\n",
        "np.array(matrix)"
      ],
      "metadata": {
        "colab": {
          "base_uri": "https://localhost:8080/"
        },
        "id": "9N8aquKmiODZ",
        "outputId": "bb17e78a-202f-48b8-ff58-457593e3716c"
      },
      "execution_count": 8,
      "outputs": [
        {
          "output_type": "stream",
          "name": "stderr",
          "text": [
            "<ipython-input-8-c702c96dbccc>:3: VisibleDeprecationWarning: Creating an ndarray from ragged nested sequences (which is a list-or-tuple of lists-or-tuples-or ndarrays with different lengths or shapes) is deprecated. If you meant to do this, you must specify 'dtype=object' when creating the ndarray.\n",
            "  np.array(matrix)\n"
          ]
        },
        {
          "output_type": "execute_result",
          "data": {
            "text/plain": [
              "array([list([1, 2, 3]), list([4, 5, 6, 7, 8])], dtype=object)"
            ]
          },
          "metadata": {},
          "execution_count": 8
        }
      ]
    },
    {
      "cell_type": "markdown",
      "source": [
        "####From Numpy methods\n",
        "Evenly space values within a given interval"
      ],
      "metadata": {
        "id": "XUnuZDMVih6Z"
      }
    },
    {
      "cell_type": "code",
      "source": [
        "np.arange(0,10)"
      ],
      "metadata": {
        "colab": {
          "base_uri": "https://localhost:8080/"
        },
        "id": "9bxQzZAhjCCz",
        "outputId": "920bad4b-9726-4cd5-9ef6-9d37541ec41c"
      },
      "execution_count": 10,
      "outputs": [
        {
          "output_type": "execute_result",
          "data": {
            "text/plain": [
              "array([0, 1, 2, 3, 4, 5, 6, 7, 8, 9])"
            ]
          },
          "metadata": {},
          "execution_count": 10
        }
      ]
    },
    {
      "cell_type": "code",
      "source": [
        "np.arange(0,11)"
      ],
      "metadata": {
        "colab": {
          "base_uri": "https://localhost:8080/"
        },
        "id": "itN-LI-PjEno",
        "outputId": "b43ed46e-a822-4f2e-8104-a37290ac0e13"
      },
      "execution_count": 11,
      "outputs": [
        {
          "output_type": "execute_result",
          "data": {
            "text/plain": [
              "array([ 0,  1,  2,  3,  4,  5,  6,  7,  8,  9, 10])"
            ]
          },
          "metadata": {},
          "execution_count": 11
        }
      ]
    },
    {
      "cell_type": "code",
      "source": [
        "np.arange(0,11,2)"
      ],
      "metadata": {
        "colab": {
          "base_uri": "https://localhost:8080/"
        },
        "id": "ifgnh1BbjJ1O",
        "outputId": "10c86ea1-0576-499d-88fe-c885686dc54a"
      },
      "execution_count": 12,
      "outputs": [
        {
          "output_type": "execute_result",
          "data": {
            "text/plain": [
              "array([ 0,  2,  4,  6,  8, 10])"
            ]
          },
          "metadata": {},
          "execution_count": 12
        }
      ]
    },
    {
      "cell_type": "markdown",
      "source": [
        "Zeros and ones"
      ],
      "metadata": {
        "id": "zRiXTFyRjQEp"
      }
    },
    {
      "cell_type": "code",
      "source": [
        "np.zeros(3)"
      ],
      "metadata": {
        "colab": {
          "base_uri": "https://localhost:8080/"
        },
        "id": "cGPHV5I9jN82",
        "outputId": "5d74c462-6e3f-4ed1-92bb-ffb57cea80e9"
      },
      "execution_count": 13,
      "outputs": [
        {
          "output_type": "execute_result",
          "data": {
            "text/plain": [
              "array([0., 0., 0.])"
            ]
          },
          "metadata": {},
          "execution_count": 13
        }
      ]
    },
    {
      "cell_type": "code",
      "source": [],
      "metadata": {
        "id": "0Oe8oNNMjVdG"
      },
      "execution_count": null,
      "outputs": []
    }
  ]
}